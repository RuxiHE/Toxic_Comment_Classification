{
  "nbformat": 4,
  "nbformat_minor": 0,
  "metadata": {
    "colab": {
      "provenance": []
    },
    "kernelspec": {
      "name": "python3",
      "display_name": "Python 3"
    },
    "language_info": {
      "name": "python"
    }
  },
  "cells": [
    {
      "cell_type": "code",
      "source": [
        "# %%\n",
        "# from google.colab import drive\n",
        "# `from datasets import Dataset` is importing the `Dataset` class from the `datasets` module. This class is typically used for handling and working with datasets in a structured manner, such as loading, processing, and manipulating data for machine learning tasks.\n",
        "# from datasets import Dataset\n",
        "import torch\n",
        "from transformers import BertTokenizer, BertForSequenceClassification, TrainingArguments, Trainer\n",
        "import pandas as pd\n",
        "import matplotlib.pyplot as plt\n",
        "import argparse"
      ],
      "metadata": {
        "id": "FCHlRe66aH0K"
      },
      "execution_count": null,
      "outputs": []
    },
    {
      "cell_type": "code",
      "source": [
        "class ToxicDataset(torch.utils.data.Dataset):\n",
        "        def __init__(self, encodings, labels=None):\n",
        "            self.encodings = encodings\n",
        "            self.labels = labels\n",
        "\n",
        "        def __len__(self):\n",
        "            return len(self.encodings['input_ids'])\n",
        "\n",
        "        def __getitem__(self, idx):\n",
        "            item = {key: torch.tensor(val[idx]) for key, val in self.encodings.items()}\n",
        "            if self.labels is not None:\n",
        "                item['labels'] = torch.tensor(self.labels[idx])\n",
        "            return item"
      ],
      "metadata": {
        "id": "IDJp5OcaaKv4"
      },
      "execution_count": null,
      "outputs": []
    },
    {
      "cell_type": "code",
      "source": [
        "def tokenize_function(examples, tokenizer):\n",
        "        return tokenizer(examples['string'], truncation=True, padding=True, max_length=256)"
      ],
      "metadata": {
        "id": "T1_ky0UaaMyh"
      },
      "execution_count": null,
      "outputs": []
    },
    {
      "cell_type": "code",
      "execution_count": null,
      "metadata": {
        "id": "WQHmkTbMaDt7"
      },
      "outputs": [],
      "source": [
        "def main():\n",
        "    data_dir = \"./kaggle_data/\"\n",
        "\n",
        "    # %%\n",
        "    device = \"cuda:0\" if torch.cuda.is_available() else \"cpu\"\n",
        "    print(device)\n",
        "\n",
        "    # %%\n",
        "    # Step 3: Load the Data\n",
        "    # Load training and validation datasets\n",
        "    train_x = pd.read_csv(f'{data_dir}/train_x.csv')\n",
        "    train_y = pd.read_csv(f'{data_dir}/train_y.csv')\n",
        "    valid_x = pd.read_csv(f'{data_dir}/val_x.csv')\n",
        "    valid_y = pd.read_csv(f'{data_dir}/val_y.csv')\n",
        "\n",
        "    # Merge X and Y datasets\n",
        "    train_data = train_x.copy()\n",
        "    train_data['y'] = train_y['y']\n",
        "    valid_data = valid_x.copy()\n",
        "    valid_data['y'] = valid_y['y']\n",
        "\n",
        "    # Load test data (text.csv)\n",
        "    test_data = pd.read_csv(f'{data_dir}/test_x.csv')  # Replace with your test file path\n",
        "\n",
        "    # %%\n",
        "    # Step 4: Prepare the Data for Tokenization\n",
        "\n",
        "\n",
        "    # Load the tokenizer\n",
        "    tokenizer = BertTokenizer.from_pretrained('bert-base-uncased') # for BERT large use 'bert-large-uncased'\n",
        "\n",
        "    # Tokenize training, validation, and test data\n",
        "\n",
        "    test_data['string'].fillna('Missing', inplace=True)  # Replace NaN with empty strings\n",
        "\n",
        "    train_encodings = tokenizer(list(train_data['string']), truncation=True, padding=True, max_length=256)\n",
        "    valid_encodings = tokenizer(list(valid_data['string']), truncation=True, padding=True, max_length=256)\n",
        "    test_encodings = tokenizer(list(test_data['string']), truncation=True, padding=True, max_length=256)\n",
        "\n",
        "    # %%\n",
        "    # Step 5: Prepare Torch Datasets\n",
        "\n",
        "\n",
        "    # Convert to PyTorch Datasets\n",
        "    train_dataset = ToxicDataset(train_encodings, train_data['y'].tolist())\n",
        "    valid_dataset = ToxicDataset(valid_encodings, valid_data['y'].tolist())\n",
        "    test_dataset = ToxicDataset(test_encodings)\n",
        "\n",
        "    # %%\n",
        "    # !pip install transformers[torch]\n",
        "    # !pip install 'accelerate>=0.26.0\n",
        "\n",
        "    # %%\n",
        "    # Step 6: Fine-tune BERT\n",
        "\n",
        "    # Load the pre-trained BERT model\n",
        "    model = BertForSequenceClassification.from_pretrained('bert-base-uncased', num_labels=2).to(device) # for BERT large use 'bert-large-uncased'\n",
        "\n",
        "    # Define training arguments\n",
        "    training_args = TrainingArguments(\n",
        "        output_dir='./results',\n",
        "        evaluation_strategy=\"epoch\",\n",
        "        learning_rate=2e-5,\n",
        "        per_device_train_batch_size=32,\n",
        "        per_device_eval_batch_size=32,\n",
        "        num_train_epochs=1,  # change the number for different amount of training data used\n",
        "        weight_decay=0.01,\n",
        "        logging_dir='./logs',\n",
        "        save_strategy=\"epoch\",\n",
        "        save_total_limit=1,\n",
        "        load_best_model_at_end=True,\n",
        "    )\n",
        "\n",
        "    # Define Trainer\n",
        "    trainer = Trainer(\n",
        "        model=model,\n",
        "        args=training_args,\n",
        "        train_dataset=train_dataset,\n",
        "        eval_dataset=valid_dataset,\n",
        "    )\n",
        "\n",
        "    # Train the model\n",
        "    trainer.train()\n",
        "\n",
        "    # %%\n",
        "    # Step 5: Access Training and Validation Metrics\n",
        "    metrics = trainer.state.log_history  # Retrieve logs for training/validation\n",
        "    train_loss = [x['loss'] for x in metrics if 'loss' in x]\n",
        "    eval_loss = [x['eval_loss'] for x in metrics if 'eval_loss' in x]\n",
        "\n",
        "# %%\n",
        "# Step 6: Visualize Loss\n",
        "\n",
        "    epochs = list(range(1, len(train_loss) + 1))\n",
        "\n",
        "    plt.plot(epochs, train_loss, label='Training Loss')\n",
        "    plt.plot(epochs, eval_loss, label='Validation Loss')\n",
        "    plt.xlabel('Epochs')\n",
        "    plt.ylabel('Loss')\n",
        "    plt.title('Training and Validation Loss')\n",
        "    plt.legend()\n",
        "    plt.savefig(\"./training.png\")\n",
        "\n",
        "    # %%\n",
        "    # Step 7: Generate Predictions on Test Data\n",
        "    # Put the model in evaluation mode\n",
        "    model.eval()\n",
        "\n",
        "    # Use the Trainer for prediction\n",
        "    test_predictions = trainer.predict(test_dataset).predictions\n",
        "    test_predictions = torch.softmax(torch.tensor(test_predictions), dim=1)[:, 1] > 0.5  # Threshold at 0.5\n",
        "    test_predictions = test_predictions.int().tolist()\n",
        "\n",
        "    # Add IDs for test data\n",
        "    test_ids = test_data.index.tolist()\n",
        "\n",
        "    # %%\n",
        "    # Step 8: Save Predictions in the Required Format\n",
        "    pred_df = pd.DataFrame({'ID': test_ids, 'pred': test_predictions})\n",
        "    pred_df.to_csv('prediction.csv', index=False)\n",
        "    print(\"Predictions saved to prediction.csv\")"
      ]
    },
    {
      "cell_type": "code",
      "source": [
        "if __name__ == \"__main__\":\n",
        "    main()"
      ],
      "metadata": {
        "id": "hcEuE4IRaU0L"
      },
      "execution_count": null,
      "outputs": []
    }
  ]
}