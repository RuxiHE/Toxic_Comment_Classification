{
  "nbformat": 4,
  "nbformat_minor": 0,
  "metadata": {
    "colab": {
      "provenance": []
    },
    "kernelspec": {
      "name": "python3",
      "display_name": "Python 3"
    },
    "language_info": {
      "name": "python"
    }
  },
  "cells": [
    {
      "cell_type": "code",
      "source": [
        "import torch\n",
        "from transformers import BertTokenizer, BertForSequenceClassification, TrainingArguments, Trainer\n",
        "import pandas as pd\n",
        "import matplotlib.pyplot as plt\n",
        "from torch.utils.data import DataLoader"
      ],
      "metadata": {
        "id": "hnZhjGv1bhrN"
      },
      "execution_count": null,
      "outputs": []
    },
    {
      "cell_type": "code",
      "source": [
        "class ToxicDataset(torch.utils.data.Dataset):\n",
        "        def __init__(self, encodings, labels=None):\n",
        "            self.encodings = encodings\n",
        "            self.labels = labels\n",
        "\n",
        "        def __len__(self):\n",
        "            return len(self.encodings['input_ids'])\n",
        "\n",
        "        def __getitem__(self, idx):\n",
        "            item = {key: torch.tensor(val[idx]) for key, val in self.encodings.items()}\n",
        "            if self.labels is not None:\n",
        "                item['labels'] = torch.tensor(self.labels[idx])\n",
        "            return item"
      ],
      "metadata": {
        "id": "8gyTfPPUbm9H"
      },
      "execution_count": null,
      "outputs": []
    },
    {
      "cell_type": "code",
      "execution_count": null,
      "metadata": {
        "id": "WcpFfzmwbYO2"
      },
      "outputs": [],
      "source": [
        "def tokenize_function(examples, tokenizer):\n",
        "        return tokenizer(examples['string'], truncation=True, padding=True, max_length=128)\n",
        "\n",
        "\n",
        "def main():\n",
        "    data_dir = \"./kaggle_data/\"\n",
        "\n",
        "    # %%\n",
        "    device = \"cuda:0\" if torch.cuda.is_available() else \"cpu\"\n",
        "    print(device)\n",
        "\n",
        "    # %%\n",
        "    test_data = pd.read_csv(f'{data_dir}/test_x.csv')  # Replace with your test file path\n",
        "    tokenizer = BertTokenizer.from_pretrained('bert-base-uncased')\n",
        "    test_data['string'].fillna('Missing', inplace=True)  # Replace NaN with empty strings\n",
        "\n",
        "    test_encodings = tokenizer(list(test_data['string']), truncation=True, padding=True, max_length=256)\n",
        "    test_dataset = ToxicDataset(test_encodings)\n",
        "    file_path = \"./results/checkpoint-8408/\"\n",
        "    model = BertForSequenceClassification.from_pretrained(file_path, num_labels=2).to(device)\n",
        "    model.eval()\n",
        "    dataloader = DataLoader(test_dataset, batch_size = 512)\n",
        "    training_args = TrainingArguments(\n",
        "        output_dir='./results',\n",
        "        evaluation_strategy=\"epoch\",\n",
        "        learning_rate=2e-5,\n",
        "        per_device_train_batch_size=512,\n",
        "        per_device_eval_batch_size=512,\n",
        "        num_train_epochs=1,\n",
        "        weight_decay=0.01,\n",
        "        logging_dir='./logs',\n",
        "        save_strategy=\"epoch\",\n",
        "        save_total_limit=1,\n",
        "        load_best_model_at_end=True,\n",
        "    )\n",
        "\n",
        "    # Define Trainer\n",
        "    trainer = Trainer(\n",
        "        model=model,\n",
        "        args=training_args,\n",
        "        train_dataset=test_dataset,\n",
        "        eval_dataset=test_dataset,\n",
        "    )\n",
        "\n",
        "    model.eval()\n",
        "\n",
        "    # Use the Trainer for prediction\n",
        "    test_predictions = trainer.predict(test_dataset).predictions\n",
        "    test_predictions = torch.softmax(torch.tensor(test_predictions), dim=1)[:, 1] > 0.5  # Threshold at 0.5\n",
        "    test_predictions = test_predictions.int().tolist()\n",
        "    # Add IDs for test data\n",
        "    test_ids = test_data.index.tolist()\n",
        "\n",
        "    # %%\n",
        "    # Step 8: Save Predictions in the Required Format\n",
        "    pred_df = pd.DataFrame({'ID': test_ids, 'pred': test_predictions})\n",
        "    pred_df.to_csv('./prediction.csv', index=False)\n",
        "    print(\"Predictions saved to prediction.csv\")\n",
        "\n",
        "    # print(f\"Predicted class: {predicted_class}\")"
      ]
    },
    {
      "cell_type": "code",
      "source": [
        "if __name__ == \"__main__\":\n",
        "    main()"
      ],
      "metadata": {
        "id": "h8TisWXvbqcj"
      },
      "execution_count": null,
      "outputs": []
    }
  ]
}